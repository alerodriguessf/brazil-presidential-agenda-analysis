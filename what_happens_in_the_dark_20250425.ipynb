{
  "nbformat": 4,
  "nbformat_minor": 0,
  "metadata": {
    "colab": {
      "provenance": [],
      "mount_file_id": "14sUagaU51JSNphQXidLb_La8zSy5fpyK",
      "authorship_tag": "ABX9TyOAhPtG/wNS2YkiYc833yZR",
      "include_colab_link": true
    },
    "kernelspec": {
      "name": "python3",
      "display_name": "Python 3"
    },
    "language_info": {
      "name": "python"
    }
  },
  "cells": [
    {
      "cell_type": "markdown",
      "metadata": {
        "id": "view-in-github",
        "colab_type": "text"
      },
      "source": [
        "<a href=\"https://colab.research.google.com/github/alerodriguessf/brazil-presidential-agenda-analysis/blob/main/what_happens_in_the_dark_20250425.ipynb\" target=\"_parent\"><img src=\"https://colab.research.google.com/assets/colab-badge.svg\" alt=\"Open In Colab\"/></a>"
      ]
    },
    {
      "cell_type": "code",
      "source": [
        "!pip install ydata-profiling"
      ],
      "metadata": {
        "id": "-6XgYP5F-Ex3",
        "collapsed": true
      },
      "execution_count": null,
      "outputs": []
    },
    {
      "cell_type": "code",
      "execution_count": null,
      "metadata": {
        "id": "0DveUWIG5HvJ"
      },
      "outputs": [],
      "source": [
        "import pandas as pd\n",
        "import numpy as np\n",
        "from ydata_profiling import ProfileReport"
      ]
    },
    {
      "cell_type": "code",
      "source": [
        "from google.colab import files\n",
        "upload = files.upload()"
      ],
      "metadata": {
        "id": "jaWFd8Tq5P66"
      },
      "execution_count": null,
      "outputs": []
    },
    {
      "cell_type": "code",
      "source": [
        "df = pd.read_excel('agenda-do-presidente-da-republica-2021 - agenda-do-presidente-da-republica-2021.csv.xlsx')"
      ],
      "metadata": {
        "id": "TasJ_kWplYKA"
      },
      "execution_count": null,
      "outputs": []
    },
    {
      "cell_type": "code",
      "source": [
        "df.head(30)"
      ],
      "metadata": {
        "collapsed": true,
        "id": "ugSx3ukXldL6"
      },
      "execution_count": null,
      "outputs": []
    },
    {
      "cell_type": "code",
      "source": [
        "df.info()"
      ],
      "metadata": {
        "id": "GeCoBo4Elk_Q"
      },
      "execution_count": null,
      "outputs": []
    },
    {
      "cell_type": "code",
      "source": [
        "ProfileReport(df)"
      ],
      "metadata": {
        "collapsed": true,
        "id": "BY9jBYZYoPEy"
      },
      "execution_count": null,
      "outputs": []
    },
    {
      "cell_type": "code",
      "source": [
        "df_clean = df.drop(columns=['Descrição da Agenda','Nome do Órgão','Nome da Autoridade','Tipo de agenda','Título da Agenda'])"
      ],
      "metadata": {
        "collapsed": true,
        "id": "GOhfKsNppO68"
      },
      "execution_count": null,
      "outputs": []
    },
    {
      "cell_type": "code",
      "source": [
        "df_clean.head()"
      ],
      "metadata": {
        "id": "ySLpwT3aruPV"
      },
      "execution_count": null,
      "outputs": []
    },
    {
      "cell_type": "code",
      "source": [
        "df_clean.info()"
      ],
      "metadata": {
        "id": "Jz_D-qUKsEMK"
      },
      "execution_count": null,
      "outputs": []
    },
    {
      "cell_type": "code",
      "source": [
        "df_clean.dropna(subset=['Horário de Inicio','Horário de Término','Duração','Data da Agenda Diária'])"
      ],
      "metadata": {
        "id": "lbZpkxj6sMMB"
      },
      "execution_count": null,
      "outputs": []
    },
    {
      "cell_type": "code",
      "source": [
        "ProfileReport(df_clean)"
      ],
      "metadata": {
        "collapsed": true,
        "id": "-U5VVCjatBi3"
      },
      "execution_count": null,
      "outputs": []
    },
    {
      "cell_type": "code",
      "source": [
        "df_clean.info()"
      ],
      "metadata": {
        "id": "JEsSmUbgtKPv"
      },
      "execution_count": null,
      "outputs": []
    },
    {
      "cell_type": "code",
      "source": [
        "df_clean['Horário de Inicio'] = pd.to_datetime(df_clean['Horário de Inicio'], format = '%H:%M:%S').dt.time\n",
        "df_clean['Horário de Término'] = pd.to_datetime(df_clean['Horário de Término'], format = '%H:%M:%S').dt.time"
      ],
      "metadata": {
        "id": "pmGJ9Xe5t0-N"
      },
      "execution_count": null,
      "outputs": []
    },
    {
      "source": [
        "def converter_duracao(duracao_str):\n",
        "    # Check if the input is a string and not NaN\n",
        "    if isinstance(duracao_str, str):\n",
        "        try:\n",
        "            # Attempt to split and convert to integers\n",
        "            horas, minutos = map(int, duracao_str.split(':'))\n",
        "            total_segundos = (horas * 3600) + (minutos * 60)\n",
        "            return pd.to_timedelta(total_segundos, unit='s')\n",
        "        except ValueError:\n",
        "            # Handle cases where the string format is incorrect (e.g., not HH:MM)\n",
        "            print(f\"Could not parse duration string: {duracao_str}\")\n",
        "            return pd.NaT # Return Not a Time for parsing errors\n",
        "    else:\n",
        "        # Handle non-string inputs (like NaN after conversion)\n",
        "        # print(f\"Non-string input received: {duracao_str}\") # Optional: for debugging\n",
        "        return pd.NaT # Return Not a Time for non-string values\n",
        "\n",
        "# Convert the 'Duração' column to string type first.\n",
        "# This handles potential integers, floats, or NaNs by turning them into their string representation.\n",
        "# Then, apply the converter function.\n",
        "df_clean['Duração'] = df_clean['Duração'].astype(str).apply(converter_duracao)"
      ],
      "cell_type": "code",
      "metadata": {
        "collapsed": true,
        "id": "rcmnfV4VGnfG"
      },
      "execution_count": null,
      "outputs": []
    },
    {
      "cell_type": "code",
      "source": [
        "df_clean.info()"
      ],
      "metadata": {
        "id": "vcY27EWAusRl",
        "collapsed": true
      },
      "execution_count": null,
      "outputs": []
    },
    {
      "cell_type": "code",
      "source": [
        "print(df_clean[['Horário de Inicio', 'Horário de Término', 'Duração']].dtypes)\n"
      ],
      "metadata": {
        "id": "VEkcePO5vNWN"
      },
      "execution_count": null,
      "outputs": []
    },
    {
      "cell_type": "code",
      "source": [
        "df_clean.head()"
      ],
      "metadata": {
        "collapsed": true,
        "id": "XC3jbJVovRQ_"
      },
      "execution_count": null,
      "outputs": []
    },
    {
      "cell_type": "markdown",
      "source": [
        "Entendo o Perfil dos lugares/viajens internacionais"
      ],
      "metadata": {
        "id": "ipcf5j_k3gT6"
      }
    },
    {
      "cell_type": "code",
      "source": [
        "import matplotlib.pyplot as plt\n",
        "import pandas as pd\n",
        "import seaborn as sns\n",
        "\n",
        "# Pré-processamento (assumindo que df_clean já está pronto)\n",
        "# Contar a frequência de cada local\n",
        "local_counts = df_clean['Local do Compromisso'].value_counts()\n",
        "\n",
        "# Selecionar os top N locais (para evitar um gráfico muito longo)\n",
        "top_n = 20  # Ajuste este valor se quiser mostrar mais ou menos locais\n",
        "top_local_counts = local_counts.head(top_n)\n",
        "\n",
        "# Criar o gráfico de barras\n",
        "plt.figure(figsize=(10, 6))  # Tamanho da figura ajustável\n",
        "sns.barplot(x=top_local_counts.values, y=top_local_counts.index, palette='viridis')  # Cores agradáveis\n",
        "\n",
        "# Adicionar rótulos e título\n",
        "plt.xlabel('Número de Compromissos', fontsize=12)\n",
        "plt.ylabel('Local do Compromisso', fontsize=12)\n",
        "plt.title(f'Top {top_n} Locais de Compromisso', fontsize=14)\n",
        "\n",
        "# Estilizar o gráfico\n",
        "sns.despine(left=True, bottom=True)  # Remover spines desnecessárias\n",
        "plt.xticks(fontsize=10)\n",
        "plt.yticks(fontsize=10)\n",
        "plt.tight_layout()  # Ajustar layout para evitar cortes\n",
        "\n",
        "plt.show()"
      ],
      "metadata": {
        "id": "tfZjYBU73D24"
      },
      "execution_count": null,
      "outputs": []
    },
    {
      "cell_type": "code",
      "source": [
        "import matplotlib.pyplot as plt\n",
        "import pandas as pd\n",
        "import seaborn as sns\n",
        "\n",
        "# Pré-processamento (assumindo que df_clean já está pronto)\n",
        "df_analise = df_clean.copy()\n",
        "\n",
        "# Ensure the 'Data da Agenda Diária' column is in datetime format\n",
        "# Use errors='coerce' to turn invalid parsing into NaT (Not a Time)\n",
        "df_analise['Data da Agenda Diária'] = pd.to_datetime(df_analise['Data da Agenda Diária'], format='%d/%m/%Y', errors='coerce')\n",
        "\n",
        "# Ensure the time columns are in datetime.time format\n",
        "# You can keep this as it is if you already did it before, but ensure it happened\n",
        "df_analise['Horário de Inicio'] = pd.to_datetime(df_analise['Horário de Inicio'], errors='coerce', format='%H:%M:%S').dt.time\n",
        "df_analise['Horário de Término'] = pd.to_datetime(df_analise['Horário de Término'], errors='coerce', format='%H:%M:%S').dt.time\n",
        "\n",
        "\n",
        "# Calcular a duração de cada compromisso em horas\n",
        "# Combine the date with the time objects for calculation\n",
        "df_analise['Duração (horas)'] = df_analise.apply(\n",
        "    lambda row: (\n",
        "        (pd.to_datetime(str(row['Data da Agenda Diária']).split()[0] + ' ' + str(row['Horário de Término'])) -\n",
        "         pd.to_datetime(str(row['Data da Agenda Diária']).split()[0] + ' ' + str(row['Horário de Inicio']))).total_seconds() / 3600\n",
        "        if pd.notna(row['Horário de Inicio']) and pd.notna(row['Horário de Término']) and pd.notna(row['Data da Agenda Diária'])\n",
        "        else 0  # Se algum horário ou data for nulo, considerar duração 0\n",
        "    ),\n",
        "    axis=1,\n",
        ")\n",
        "\n",
        "# Calcular o total de horas no mandato (considerando apenas os dias em df_clean)\n",
        "# Ensure the date column is handled correctly for min/max\n",
        "inicio_mandato = df_analise['Data da Agenda Diária'].min()\n",
        "fim_mandato = df_analise['Data da Agenda Diária'].max()\n",
        "# Calculate total hours between the first and last date\n",
        "total_horas_mandato = (fim_mandato - inicio_mandato).total_seconds() / 3600 if pd.notna(inicio_mandato) and pd.notna(fim_mandato) else 0\n",
        "\n",
        "\n",
        "# Agrupar por local e somar as durações\n",
        "horas_por_local = df_analise.groupby('Local do Compromisso')['Duração (horas)'].sum().reset_index()\n",
        "\n",
        "# Calcular a proporção do total de horas do mandato\n",
        "horas_por_local['Proporção'] = horas_por_local['Duração (horas)'] / total_horas_mandato if total_horas_mandato > 0 else 0\n",
        "\n",
        "# Selecionar os top N locais para visualização\n",
        "top_n = 10\n",
        "top_locais = horas_por_local.nlargest(top_n, 'Duração (horas)')\n",
        "\n",
        "# Visualizar (Gráfico de Barras)\n",
        "plt.figure(figsize=(10, 6))\n",
        "sns.barplot(x='Proporção', y='Local do Compromisso', data=top_locais, palette='viridis')\n",
        "\n",
        "plt.xlabel('Proporção do Tempo do Mandato', fontsize=12)\n",
        "plt.ylabel('Local do Compromisso', fontsize=12)\n",
        "plt.title(f'Proporção do Tempo do Mandato nos Top {top_n} Locais', fontsize=14)\n",
        "sns.despine(left=True, bottom=True)\n",
        "plt.xticks(fontsize=10)\n",
        "plt.yticks(fontsize=10)\n",
        "plt.tight_layout()\n",
        "plt.show()\n",
        "\n",
        "# Mostrar os resultados em texto também\n",
        "print(\"\\nProporção do tempo do mandato por local:\")\n",
        "print(horas_por_local.sort_values(by='Proporção', ascending=False).head(10))"
      ],
      "metadata": {
        "id": "e6fuoRkt4ZA1"
      },
      "execution_count": null,
      "outputs": []
    },
    {
      "cell_type": "code",
      "source": [
        "import matplotlib.pyplot as plt\n",
        "import pandas as pd\n",
        "import seaborn as sns\n",
        "\n",
        "# Pré-processamento (assumindo que df_clean e o código anterior já foram executados)\n",
        "# (Ou seja, você já tem o DataFrame 'horas_por_local' com as proporções)\n",
        "\n",
        "# Selecionar os top N locais para visualização (novamente, para clareza)\n",
        "top_n = 10\n",
        "top_locais = horas_por_local.nlargest(top_n, 'Duração (horas)')\n",
        "\n",
        "# Criar o gráfico de rosca\n",
        "plt.figure(figsize=(8, 8))\n",
        "plt.pie(\n",
        "    top_locais['Proporção'],\n",
        "    labels=top_locais['Local do Compromisso'],\n",
        "    autopct='%1.1f%%',  # Formatar porcentagens\n",
        "    startangle=140,    # Ajustar o ângulo inicial\n",
        "    colors=sns.color_palette('pastel', n_colors=top_n), # Paleta de cores\n",
        "    wedgeprops={'width': 0.3} # Largura da rosca\n",
        ")\n",
        "\n",
        "# Adicionar título\n",
        "plt.title(f'Porcentagem do Tempo do Mandato nos Top {top_n} Locais', fontsize=14)\n",
        "\n",
        "# Ajustar layout\n",
        "plt.tight_layout()\n",
        "plt.show()"
      ],
      "metadata": {
        "id": "30gjLqdt458D"
      },
      "execution_count": null,
      "outputs": []
    },
    {
      "cell_type": "markdown",
      "source": [
        "**VIZUALIZAÇÕES (EXPERIMENTAL)**"
      ],
      "metadata": {
        "id": "NZcZ48UM241q"
      }
    },
    {
      "cell_type": "code",
      "source": [
        "import matplotlib.pyplot as plt\n",
        "import pandas as pd\n",
        "import seaborn as sns\n",
        "\n",
        "# Pré-processamento (assumindo que df_clean já está pronto)\n",
        "df_plot = df_clean.copy()\n",
        "df_plot['Data'] = pd.to_datetime(df_plot['Data da Agenda Diária'], format='%d/%m/%Y')\n",
        "df_plot['Hora Inicio'] = df_plot['Horário de Inicio'].apply(lambda t: t.hour + t.minute / 60 if pd.notna(t) else None)\n",
        "df_plot['Hora Termino'] = df_plot['Horário de Término'].apply(lambda t: t.hour + t.minute / 60 if pd.notna(t) else None)\n",
        "df_plot['Dia da Semana'] = df_plot['Data'].dt.dayofweek  # 0: Segunda (0) a Domingo (6)\n",
        "\n",
        "# Filtrar apenas dias úteis (Segunda a Sexta)\n",
        "df_plot = df_plot[df_plot['Dia da Semana'].isin(range(0, 5))]\n",
        "\n",
        "# Criar intervalos de tempo (horas comerciais: 6h - 24h)\n",
        "horas = list(range(6, 25))  # Inclui a hora 24\n",
        "df_heatmap = pd.DataFrame({'Hora': horas})\n",
        "df_heatmap['Data'] = df_heatmap['Hora'].apply(lambda x: df_plot['Data'].unique())\n",
        "df_heatmap = df_heatmap.explode('Data')\n",
        "df_heatmap['Ocupado'] = 0\n",
        "\n",
        "for index, row in df_plot.iterrows():\n",
        "    if pd.notna(row['Hora Inicio']) and pd.notna(row['Hora Termino']):\n",
        "        start_hour = int(row['Hora Inicio'])\n",
        "        end_hour = int(row['Hora Termino']) + 1  # Incluir a hora final\n",
        "        # Filtrar para horas comerciais\n",
        "        start_hour = max(start_hour, 6)\n",
        "        end_hour = min(end_hour, 24)\n",
        "        if start_hour < end_hour:\n",
        "            df_heatmap.loc[(df_heatmap['Data'] == row['Data']) & (df_heatmap['Hora'].isin(range(start_hour, end_hour))), 'Ocupado'] = 1\n",
        "\n",
        "df_heatmap_pivot = df_heatmap.pivot_table(index='Data', columns='Hora', values='Ocupado', fill_value=0)\n",
        "\n",
        "# Visualização com Tabela 5x Mais Larga\n",
        "plt.style.use('dark_background')\n",
        "fig, ax = plt.subplots(figsize=(100,100))  # Largura 5x maior (10 * 5 = 50)\n",
        "\n",
        "sns.heatmap(\n",
        "    df_heatmap_pivot,\n",
        "    cmap=['#333333', 'deepskyblue'],\n",
        "    cbar=False,\n",
        "    linewidths=0.5,\n",
        "    linecolor='#555555',\n",
        "    square=True,\n",
        "    ax=ax,\n",
        ")\n",
        "\n",
        "# Ajustar os eixos (Horas Comerciais e Datas)\n",
        "ax.set_xticks(range(6, 25))\n",
        "ax.set_xticklabels(horas, fontsize=8, color='lightgray')\n",
        "ax.set_xlabel('Hora (6h - 24h)', fontsize=10, color='white')\n",
        "\n",
        "# Ajustar rótulos do eixo y (Datas) - Mais compacto\n",
        "num_dias = len(df_heatmap_pivot.index)\n",
        "step_size = max(1, num_dias // 20)\n",
        "ax.set_yticks(range(0, num_dias, step_size))\n",
        "ax.set_yticklabels(df_heatmap_pivot.index[::step_size].strftime('%Y-%m-%d'), fontsize=8, color='lightgray')\n",
        "ax.set_ylabel('Data', fontsize=10, color='white')\n",
        "\n",
        "# Título e Legenda\n",
        "plt.title('Agenda (Dias Úteis, 6h-24h)', fontsize=12, color='white', pad=10)\n",
        "plt.figtext(0.85, 0.15, 'Legenda:', fontsize=10, color='white', ha='left')\n",
        "plt.figtext(0.85, 0.13, 'Livre', fontsize=10, color='lightgray', ha='left')\n",
        "plt.figtext(0.85, 0.11, 'Ocupado', fontsize=10, color='deepskyblue', ha='left')\n",
        "\n",
        "plt.tight_layout(rect=[0, 0, 0.83, 0.95])  # Ajustar layout para a legenda\n",
        "plt.show()"
      ],
      "metadata": {
        "collapsed": true,
        "id": "BlUi5yAuz1W5"
      },
      "execution_count": null,
      "outputs": []
    },
    {
      "cell_type": "code",
      "source": [
        "import matplotlib.pyplot as plt\n",
        "import pandas as pd\n",
        "import seaborn as sns\n",
        "import numpy as np\n",
        "\n",
        "# Pré-processamento (assumindo que df_clean já está pronto)\n",
        "df_plot = df_clean.copy()\n",
        "df_plot['Data'] = pd.to_datetime(df_plot['Data da Agenda Diária'], format='%d/%m/%Y')\n",
        "df_plot['Hora Inicio'] = df_plot['Horário de Inicio'].apply(lambda t: t.hour + t.minute / 60 if pd.notna(t) else None)\n",
        "df_plot['Hora Termino'] = df_plot['Horário de Término'].apply(lambda t: t.hour + t.minute / 60 if pd.notna(t) else None)\n",
        "df_plot['Dia da Semana'] = df_plot['Data'].dt.dayofweek  # 0: Segunda (0) a Domingo (6)\n",
        "\n",
        "# Filtrar apenas dias úteis (Segunda a Sexta)\n",
        "df_plot = df_plot[df_plot['Dia da Semana'].isin(range(0, 5))]\n",
        "\n",
        "# Criar intervalos de tempo (horas comerciais: 6h - 24h)\n",
        "horas = list(range(6, 25))  # Inclui a hora 24\n",
        "df_heatmap = pd.DataFrame({'Hora': horas})\n",
        "df_heatmap['Data'] = df_heatmap['Hora'].apply(lambda x: df_plot['Data'].unique())\n",
        "df_heatmap = df_heatmap.explode('Data')\n",
        "df_heatmap['Ocupado'] = 0\n",
        "\n",
        "for index, row in df_plot.iterrows():\n",
        "    if pd.notna(row['Hora Inicio']) and pd.notna(row['Hora Termino']):\n",
        "        start_hour = int(row['Hora Inicio'])\n",
        "        end_hour = int(row['Hora Termino']) + 1  # Incluir a hora final\n",
        "        # Filtrar para horas comerciais\n",
        "        start_hour = max(start_hour, 6)\n",
        "        end_hour = min(end_hour, 24)\n",
        "        if start_hour < end_hour:\n",
        "            df_heatmap.loc[(df_heatmap['Data'] == row['Data']) & (df_heatmap['Hora'].isin(range(start_hour, end_hour))), 'Ocupado'] = 1\n",
        "\n",
        "df_heatmap_pivot = df_heatmap.pivot_table(index='Data', columns='Hora', values='Ocupado', fill_value=0)\n",
        "\n",
        "# Visualização Maximizada para Celular\n",
        "plt.style.use('dark_background')\n",
        "\n",
        "# Calcular tamanho ideal da figura e dos quadrados\n",
        "num_dias = df_heatmap_pivot.shape[0]\n",
        "num_horas = df_heatmap_pivot.shape[1]\n",
        "square_size = 30  # Tamanho base do quadrado (ajuste conforme necessário)\n",
        "fig_width = num_horas * square_size / 72  # Converter pixels para polegadas (72 DPI)\n",
        "fig_height = num_dias * square_size / 72\n",
        "\n",
        "fig, ax = plt.subplots(figsize=(fig_width, fig_height))\n",
        "\n",
        "sns.heatmap(\n",
        "    df_heatmap_pivot,\n",
        "    cmap=['#333333', 'deepskyblue'],\n",
        "    cbar=False,\n",
        "    linewidths=0,  # Sem linhas entre os quadrados\n",
        "    linecolor=None,\n",
        "    square=True,\n",
        "    ax=ax,\n",
        ")\n",
        "\n",
        "# Ajustar os eixos (Horas e Datas)\n",
        "ax.set_xticks(np.arange(0.5, num_horas + 0.5, 1))  # Centralizar rótulos\n",
        "ax.set_xticklabels(horas, fontsize=1, color='lightgray')  # Rótulos de hora muito pequenos\n",
        "ax.set_xlabel('Hora (6h - 24h)', fontsize=6, color='white')\n",
        "\n",
        "ax.set_yticks(np.arange(0.5, num_dias + 0.5, 5))  # Centralizar rótulos\n",
        "ax.set_yticklabels(df_heatmap_pivot.index[::5].strftime('%Y-%m-%d'), fontsize=1, color='lightgray')  # Rótulos de data muito pequenos\n",
        "ax.set_ylabel('Data', fontsize=6, color='white')\n",
        "\n",
        "# Remover ticks e spines\n",
        "ax.tick_params(length=0, pad=0)\n",
        "for spine in ax.spines:\n",
        "    ax.spines[spine].set_visible(False)\n",
        "\n",
        "# Legenda Eficiente\n",
        "plt.figtext(0.90, 0.90, 'Legenda:', fontsize=8, color='white', ha='left')\n",
        "plt.figtext(0.90, 0.88, 'Livre', fontsize=8, color='lightgray', ha='left')\n",
        "plt.figtext(0.90, 0.86, 'Ocupado', fontsize=8, color='deepskyblue', ha='left')\n",
        "\n",
        "plt.title('Agenda (Dias Úteis, 6h-24h)', fontsize=10, color='white', pad=5)\n",
        "plt.tight_layout(rect=[0, 0, 0.88, 0.95], pad=0)  # Remover padding externo\n",
        "plt.subplots_adjust(wspace=0, hspace=0)  # Remover padding interno\n",
        "\n",
        "plt.show()"
      ],
      "metadata": {
        "collapsed": true,
        "id": "ZUpqS4gS0tvA"
      },
      "execution_count": null,
      "outputs": []
    }
  ]
}